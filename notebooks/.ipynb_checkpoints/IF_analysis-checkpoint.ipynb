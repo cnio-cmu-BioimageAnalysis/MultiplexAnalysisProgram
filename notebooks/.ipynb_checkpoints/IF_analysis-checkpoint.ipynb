{
 "cells": [
  {
   "cell_type": "markdown",
   "id": "2c232fe5-aded-487b-b816-fe719276dfdf",
   "metadata": {},
   "source": [
    "# Spatial Analysis of Multiplex Immunofluorescence Data\n",
    "\n",
    "This notebook demonstrates how to perform spatial analysis on multiplex immunofluorescence data. The focus is on exploring the distribution and relationship of different cell populations within regions of interest (ROIs), using several advanced analysis techniques, including:\n",
    "\n",
    "- **Mask creation**: Generating CK, NGFR, and DAPI masks from OME-TIFF images.\n",
    "- **Subpopulation characterization**: Analyzing cell populations based on specific markers.\n",
    "- **Distance analysis**: Computing the distances between different cell populations and specific markers.\n",
    "- **Visualization**: Generating various plots, including composite images, cell-count heatmaps, and distance-based boxplots.\n",
    "- **Subpopulation comparison**: Comparing cell populations across different conditions and ROIs using statistical and visual analysis.\n",
    "\n",
    "Throughout this notebook, we will utilize various tools from the `multiplex_pipeline` package to process and analyze the data, enabling insights into the spatial organization of immune cell infiltration in tissue samples.\n",
    "\n",
    "### Table of Contents\n",
    "1. **Setup and Imports**\n",
    "2. **Load OME-TIFF Images**\n",
    "3. **Load DAPI Masks and Plot**\n",
    "4. **Create CK Masks**\n",
    "5. **Create NGFR Masks**\n",
    "6. **Compute Intensity Metrics**\n",
    "7. **Convert Intensities to Binary**\n",
    "8. **Plot Cell-Count Combinations for Tumor Characterization**\n",
    "9. **Plot Cell-Count Combinations for Tumor Infiltration**\n",
    "10. **Plot Cell-Count Combinations for NGFR-related Infiltration**\n",
    "11. **Overlay Conditional Cell Plots**\n",
    "12. **Compute and Analyze Mask Area Summaries**\n",
    "13. **Compute and Analyze Cell Densities**\n",
    "14. **Compute Distances Between Subpopulations and Masks**\n",
    "15. **Visualize with Boxplots and Heatmaps**\n",
    "\n",
    "The notebook follows a structured flow that ensures each step in the analysis is reproducible and easy to follow.\n"
   ]
  },
  {
   "cell_type": "markdown",
   "id": "8f90d623-d095-49de-bf78-e7bea95b932a",
   "metadata": {},
   "source": [
    "### 1. Setup and Imports\n",
    "\n",
    "In this section, we will set up the environment by adding the project's root directory to the system path. We will also import the necessary libraries and modules that will be used throughout the notebook.\n",
    "\n",
    "This setup is crucial to ensure that the pipeline can load and access the required functions and data sources.\n"
   ]
  },
  {
   "cell_type": "code",
   "execution_count": null,
   "id": "7fec8429-030d-4ac0-b3fe-c4a4ebf9b289",
   "metadata": {},
   "outputs": [],
   "source": [
    "import sys\n",
    "import os\n",
    "\n",
    "project_root = os.path.abspath(os.path.join(os.getcwd(), '..', '..'))\n",
    "sys.path.insert(0, project_root)\n",
    "\n",
    "import numpy as np\n",
    "import pandas as pd\n",
    "import matplotlib.pyplot as plt\n",
    "import tifffile\n",
    "import imageio.v2 as imageio\n",
    "import seaborn as sns\n",
    "from joblib import Parallel, delayed\n",
    "from scipy.spatial import cKDTree\n",
    "from skimage.segmentation import clear_border\n",
    "from skimage.measure import label, regionprops\n",
    "from skimage.morphology import remove_small_objects, remove_small_holes, binary_dilation, binary_closing, disk\n",
    "from matplotlib.colors import ListedColormap\n",
    "\n",
    "# Import custom modules from the pipeline\n",
    "from multiplex_pipeline.io.loaders import (\n",
    "    load_csv_data,\n",
    "    load_ome_tif_images,\n",
    "    load_dapi_masks\n",
    ")\n",
    "from multiplex_pipeline.utils.helpers import extract_roi_number, invert_dict\n",
    "from multiplex_pipeline.utils.validation import verify_binary\n",
    "from multiplex_pipeline.preprocessing.segmentation import post_process_mask, post_process_mask_closing, create_channel_masks\n",
    "from multiplex_pipeline.analysis.intensity import process_roi, intensity_to_binary\n",
    "from multiplex_pipeline.analysis.spatial import (\n",
    "    compute_mask_area_summary,\n",
    "    compute_subpop_cells_per_area,\n",
    "    compute_distances,\n",
    "    get_centroids,\n",
    "    compute_subpop_distances\n",
    ")\n",
    "from multiplex_pipeline.visualization.overlays import (\n",
    "    create_color_composite,\n",
    "    plot_conditional_cells_channels,\n",
    "    compute_and_plot_subpop_distances_for_all_rois,\n",
    "    compute_and_save\n",
    ")\n",
    "from multiplex_pipeline.visualization.qc import (\n",
    "    plot_masks,\n",
    "    plot_combination_counts,\n",
    "    generate_boxplots_nested,\n",
    "    generate_combined_boxplots\n",
    ")\n",
    "from multiplex_pipeline.config import (\n",
    "    DATA_FOLDER,\n",
    "    EXPORT_DAPI_FOLDER,\n",
    "    CK_SETTINGS,\n",
    "    NGFR_SETTINGS,\n",
    "    ROIS_TO_ANALYZE,\n",
    "    CHANNELS_OF_INTEREST,\n",
    "    MARKER_LABELS,\n",
    "    PIXEL_AREA,\n",
    "    INTENSITY_THRESHOLDS,\n",
    "    CELL_COUNT_OUTPUT_DIR,\n",
    "    CARACTERIZATION_COMBINATIONS,\n",
    "    INFILTRATION_COMBINATIONS,\n",
    "    NGFR_INFILTRATION_COMBINATIONS,\n",
    "    SUBPOPULATIONS,\n",
    "    CONDITION_COLUMN_MAP,\n",
    "    CELL_DENSITY_OUTPUT_DIR,\n",
    "    DISTANCES_SUBPOP_DIR,\n",
    "    DISTANCES_POPULATIONS_DIR,\n",
    "    SHADING_COLORS,\n",
    "    PIXEL_SIZE,\n",
    "    BOXPLOTS_DISTANCES_DIR,\n",
    "    BOXPLOTS_DISTANCES_HEATMAPS_DIR,\n",
    "    CNIO_USER,\n",
    "    RESULTS_BASE_DIR,\n",
    "    DEFAULT_BRIGHTNESS\n",
    "\n",
    ")\n"
   ]
  },
  {
   "cell_type": "markdown",
   "id": "7900183e-fc98-44f8-8fdc-9c164f1d8d3e",
   "metadata": {},
   "source": [
    "### 2. Load OME-TIFF Images\n",
    "\n",
    "In this step, we load OME-TIFF images containing multiplexed immunofluorescence data. Each image corresponds to a Region of Interest (ROI), and the data will be used for subsequent analysis steps. We also print the shape of the loaded images to confirm the data was loaded successfully.\n",
    "\n",
    "We will use the `load_ome_tif_images` function from the pipeline to handle the image loading process.\n"
   ]
  },
  {
   "cell_type": "code",
   "execution_count": null,
   "id": "f41a87c9-7286-46b3-a02a-feab363072ba",
   "metadata": {},
   "outputs": [],
   "source": [
    "images_dict = load_ome_tif_images(DATA_FOLDER)\n",
    "\n",
    "# Verify the loaded images\n",
    "print(f\"{len(images_dict)} images loaded.\")\n",
    "for name, image in images_dict.items():\n",
    "    print(f\"{name}: {image.shape}\")\n"
   ]
  },
  {
   "cell_type": "markdown",
   "id": "bac8866d-dc95-414e-b7cc-d298c6e18be9",
   "metadata": {},
   "source": [
    "### 3. Load DAPI Masks and Plot\n",
    "\n",
    "DAPI masks are used to identify the regions corresponding to the cell nuclei. In this section, we load the pre-processed DAPI masks and visualize them to ensure that they correctly delineate the cell regions. This step is critical as it forms the basis for downstream analyses like subpopulation segmentation and intensity calculation.\n"
   ]
  },
  {
   "cell_type": "code",
   "execution_count": null,
   "id": "393a8633-cd1d-491a-9ade-63dfa7518aab",
   "metadata": {
    "scrolled": true
   },
   "outputs": [],
   "source": [
    "dapi_masks_dict = load_dapi_masks(EXPORT_DAPI_FOLDER)\n",
    "plot_masks(dapi_masks_dict)\n"
   ]
  },
  {
   "cell_type": "markdown",
   "id": "0ebe8a83-58a3-4490-9a88-5e814bb7be67",
   "metadata": {},
   "source": [
    "### 4. Create CK Masks\n",
    "\n",
    "Here, we create masks for the Pan-Cytokeratin (CK) marker using the images and DAPI masks loaded previously. The CK mask will allow us to identify areas where cytokeratin-expressing cells are located. The generated masks will be used in further analysis to assess the presence and distribution of CK-positive cells in the tissue samples.\n"
   ]
  },
  {
   "cell_type": "code",
   "execution_count": null,
   "id": "4bd6c9a0-3abc-4198-8d09-666aafd006ff",
   "metadata": {
    "scrolled": true
   },
   "outputs": [],
   "source": [
    "ck_masks_dict = create_channel_masks(\n",
    "    images_dict=images_dict,\n",
    "    dapi_masks_dict=dapi_masks_dict,\n",
    "    **CK_SETTINGS\n",
    ")\n",
    "\n",
    "# Verify the CK masks\n",
    "print(\"Keys in ck_masks_dict:\", list(ck_masks_dict.keys()))\n"
   ]
  },
  {
   "cell_type": "markdown",
   "id": "9631c054-e540-4a3a-b128-3d4dd350d852",
   "metadata": {},
   "source": [
    "### 5. Create NGFR Masks\n",
    "\n",
    "Similar to the CK masks, NGFR masks are generated here. NGFR (nerve growth factor receptor) is another marker used to define specific cell populations. This step helps segment the tissue based on the expression of NGFR, and the generated masks will be used to perform distance and population analysis.\n"
   ]
  },
  {
   "cell_type": "code",
   "execution_count": null,
   "id": "b5e8097e-1063-4ff5-a92e-2ad50c191bf4",
   "metadata": {
    "scrolled": true
   },
   "outputs": [],
   "source": [
    "ngfr_masks_dict = create_channel_masks(\n",
    "    images_dict=images_dict,\n",
    "    dapi_masks_dict=dapi_masks_dict,\n",
    "    **NGFR_SETTINGS\n",
    ")\n",
    "\n",
    "# Verify the NGFR masks\n",
    "print(\"Keys in ngfr_masks_dict:\", list(ngfr_masks_dict.keys()))\n"
   ]
  },
  {
   "cell_type": "markdown",
   "id": "161f8c5c-7ed7-438f-b069-0e67aa154ead",
   "metadata": {},
   "source": [
    "### 6. Compute Intensity Metrics\n",
    "\n",
    "In this step, we compute intensity metrics for the different markers across the ROIs. The `process_roi` function is used to calculate various intensity measures (e.g., mean intensity) for each ROI. This provides a quantitative summary of the marker expression within each region of interest, which is essential for understanding the biological significance of the data.\n"
   ]
  },
  {
   "cell_type": "code",
   "execution_count": null,
   "id": "e23e9497-e1ad-41c0-b34c-82b721d8b4f6",
   "metadata": {},
   "outputs": [],
   "source": [
    "results = Parallel(n_jobs=-1)(\n",
    "    delayed(process_roi)(\n",
    "        img_name,\n",
    "        img_data,\n",
    "        dapi_masks_dict,\n",
    "        ck_masks_dict,\n",
    "        ngfr_masks_dict,\n",
    "        CHANNELS_OF_INTEREST,\n",
    "        MARKER_LABELS,\n",
    "        PIXEL_AREA\n",
    "    )\n",
    "    for img_name, img_data in images_dict.items()\n",
    "    if any(roi.lower() in img_name.lower() for roi in ROIS_TO_ANALYZE)\n",
    ")\n",
    "\n",
    "# Concatenate and drop any None results\n",
    "df_results = pd.concat([r for r in results if r is not None], ignore_index=True)\n",
    "df_results.head()\n"
   ]
  },
  {
   "cell_type": "markdown",
   "id": "763f9e9f-f9e7-4e5e-b76d-d4166fa3bbfa",
   "metadata": {},
   "source": [
    "### 7. Convert Intensities to Binary\n",
    "\n",
    "Once the intensity metrics are computed, we convert these intensities into binary values based on predefined thresholds. This transformation allows us to classify cells into positive or negative categories for each marker, facilitating downstream analysis of cell populations.\n"
   ]
  },
  {
   "cell_type": "code",
   "execution_count": null,
   "id": "11476583-5b89-4f35-b6a2-e2bfbef6ef60",
   "metadata": {},
   "outputs": [],
   "source": [
    "df_binary = intensity_to_binary(df_results, INTENSITY_THRESHOLDS)\n",
    "df_binary.head()\n"
   ]
  },
  {
   "cell_type": "markdown",
   "id": "f94f33cb-cad1-45d7-9fd4-b31546ebe54b",
   "metadata": {},
   "source": [
    "### 8. Plot Cell-Count Combinations for Tumor Characterization\n",
    "\n",
    "In this section, we plot the counts of cells based on specific marker combinations related to tumor characterization. This allows us to analyze how different cell populations are distributed in the tumor environment and compare them across various ROIs.\n"
   ]
  },
  {
   "cell_type": "code",
   "execution_count": null,
   "id": "bd0eabd4-4bf2-4d63-b93b-a403c5a3a170",
   "metadata": {},
   "outputs": [],
   "source": [
    "counts_df_tumor = plot_combination_counts(\n",
    "    df=df_binary,\n",
    "    rois=ROIS_TO_ANALYZE,\n",
    "    combinations=CARACTERIZATION_COMBINATIONS,\n",
    "    output_dir=CELL_COUNT_OUTPUT_DIR,\n",
    "    base_filename=\"Tumor_Caracterization\",\n",
    "    plot_title=\"Tumor Characterization: Counts by Combination and ROI\"\n",
    ")\n",
    "counts_df_tumor\n"
   ]
  },
  {
   "cell_type": "markdown",
   "id": "ddcc3845-851a-41d4-9beb-e3f50ff8bce6",
   "metadata": {},
   "source": [
    "### 9. Plot Cell-Count Combinations for Tumor Infiltration\n",
    "\n",
    "Here, we focus on the infiltration of immune cells in the tumor tissue. We plot the counts of different immune cell populations and their relationships to the tumor microenvironment. This provides insights into the immune infiltration patterns within the tissue samples.\n"
   ]
  },
  {
   "cell_type": "code",
   "execution_count": null,
   "id": "7928c077-92c6-49a2-8eef-411738dfd67c",
   "metadata": {},
   "outputs": [],
   "source": [
    "counts_df_tumor = plot_combination_counts(\n",
    "    df=df_binary,\n",
    "    rois=ROIS_TO_ANALYZE,\n",
    "    combinations=INFILTRATION_COMBINATIONS,\n",
    "    output_dir=CELL_COUNT_OUTPUT_DIR,\n",
    "    base_filename=\"Tumor_Infiltration\",\n",
    "    plot_title=\"Tumor Infiltration (Immune Cells): Counts by Combination and ROI\"\n",
    ")\n",
    "counts_df_tumor\n"
   ]
  },
  {
   "cell_type": "markdown",
   "id": "52fb18bc-c143-4991-8151-6834c845ccaa",
   "metadata": {},
   "source": [
    "### 10. Plot Cell-Count Combinations for NGFR-Related Infiltration\n",
    "\n",
    "This section focuses on the analysis of NGFR-related immune cell infiltration. We examine the distribution of NGFR-positive cells and their interactions with other immune populations, helping us better understand the role of NGFR in immune infiltration.\n"
   ]
  },
  {
   "cell_type": "code",
   "execution_count": null,
   "id": "0ce0d26c-7622-4ec7-a55b-d38843f4dfaf",
   "metadata": {},
   "outputs": [],
   "source": [
    "counts_df_ngfr = plot_combination_counts(\n",
    "    df=df_binary,\n",
    "    rois=ROIS_TO_ANALYZE,\n",
    "    combinations=NGFR_INFILTRATION_COMBINATIONS,\n",
    "    output_dir=CELL_COUNT_OUTPUT_DIR,\n",
    "    base_filename=\"Tumor_Infiltration_NGFR\",\n",
    "    plot_title=\"NGFR-Related Tumor Infiltration: Counts by Combination and ROI\"\n",
    ")\n",
    "counts_df_ngfr\n"
   ]
  },
  {
   "cell_type": "markdown",
   "id": "4cc0cce1-b2e6-4aa7-b9e7-37a0345a7440",
   "metadata": {},
   "source": [
    "### 11. Overlay Conditional Cell Plots\n",
    "\n",
    "In this step, we overlay conditional plots based on specific markers, such as CK and CD3. These plots help visualize the spatial relationships between different cell populations and their expressions in the tissue, providing a clearer understanding of cell interactions.\n"
   ]
  },
  {
   "cell_type": "code",
   "execution_count": null,
   "id": "5b253964-b8dd-4319-a6e2-4c22669db273",
   "metadata": {
    "scrolled": true
   },
   "outputs": [],
   "source": [
    "\n",
    "\n",
    "conditions = [\"CK_mask-\", \"CD3_intensity+\"]\n",
    "\n",
    "plot_conditional_cells_channels(\n",
    "    rois=ROIS_TO_ANALYZE,\n",
    "    conditions=conditions,\n",
    "    dapi_masks_dict=dapi_masks_dict,\n",
    "    images_dict=images_dict,\n",
    "    df_binary=df_binary,\n",
    "    marker_dict=MARKER_LABELS,          \n",
    "    ck_masks_dict=ck_masks_dict,\n",
    "    ngfr_masks_dict=ngfr_masks_dict,\n",
    "    condition_column_map=CONDITION_COLUMN_MAP,\n",
    "    brightness_factor=DEFAULT_BRIGHTNESS\n",
    ")\n"
   ]
  },
  {
   "cell_type": "markdown",
   "id": "ef1bd13d-7e04-46cd-af32-2806d5a6b289",
   "metadata": {},
   "source": [
    "### 12. Compute and Analyze Mask Area Summaries\n",
    "\n",
    "In this step, we compute the area of the CK and NGFR masks for each ROI. These area summaries provide valuable insights into the spatial extent of marker expression and can help quantify the extent of tissue involvement by specific markers.\n"
   ]
  },
  {
   "cell_type": "code",
   "execution_count": null,
   "id": "4372ab1f-eb65-4c1f-a5f1-ee8a94d6aa52",
   "metadata": {},
   "outputs": [],
   "source": [
    "mask_area_summary = compute_mask_area_summary(ck_masks_dict, ngfr_masks_dict)\n",
    "mask_area_summary\n"
   ]
  },
  {
   "cell_type": "markdown",
   "id": "cef030d1-7a27-46b1-bff0-b03c0d6b67f2",
   "metadata": {},
   "source": [
    "### 13. Compute and Analyze Cell Densities\n",
    "\n",
    "We compute the cell densities for each ROI and subpopulation. This is done by calculating the number of cells per square micrometer (cells/µm²) in both CK-positive and CK-NGFR-positive areas. These metrics are useful for assessing the spatial organization and distribution of cell populations in the tissue.\n"
   ]
  },
  {
   "cell_type": "code",
   "execution_count": null,
   "id": "4e6126bb-938f-466d-9ab3-721d66a0cc74",
   "metadata": {
    "scrolled": true
   },
   "outputs": [],
   "source": [
    "for subpop_name, conditions in SUBPOPULATIONS.items():\n",
    "    df_summary, df_formatted = compute_subpop_cells_per_area(\n",
    "        df_binary=df_binary,\n",
    "        subpop_conditions=conditions,\n",
    "        cond_map=CONDITION_COLUMN_MAP,\n",
    "        mask_summary=mask_area_summary,\n",
    "        rois=ROIS_TO_ANALYZE,\n",
    "        out_dir=CELL_DENSITY_OUTPUT_DIR,\n",
    "        roi_col=\"ROI\"\n",
    "    )\n",
    "    print(f\"— Processed {subpop_name}\")\n",
    "    display(df_summary.head())\n",
    "    display(df_formatted.head())\n"
   ]
  },
  {
   "cell_type": "markdown",
   "id": "3356e50d-4791-4f5e-b0aa-da6cbc5d4407",
   "metadata": {},
   "source": [
    "### 14. Compute Distances Between Subpopulations and Masks\n",
    "\n",
    "This step involves computing the distances from each subpopulation to the CK and NGFR masks. This analysis helps assess the proximity of different cell populations to key tissue markers, providing insights into their spatial relationships.\n"
   ]
  },
  {
   "cell_type": "code",
   "execution_count": null,
   "id": "d1e88791-bb7e-4f99-9418-852d01bbfd81",
   "metadata": {
    "scrolled": true
   },
   "outputs": [],
   "source": [
    "for subpop_name, subpop_conditions in SUBPOPULATIONS.items():\n",
    "    for roi in ROIS_TO_ANALYZE:\n",
    "        compute_and_save(\n",
    "            roi=roi,\n",
    "            subpop_name=subpop_name,\n",
    "            subpop_conditions=subpop_conditions,\n",
    "            path_save=DISTANCES_SUBPOP_DIR,\n",
    "            dapi_masks=dapi_masks_dict,\n",
    "            ck_masks=ck_masks_dict,\n",
    "            ngfr_masks=ngfr_masks_dict,\n",
    "            df_bin=df_binary,\n",
    "            col_map=CONDITION_COLUMN_MAP,\n",
    "            max_cells=None\n",
    "        )\n"
   ]
  },
  {
   "cell_type": "code",
   "execution_count": null,
   "id": "d634f67a-65f8-4403-8520-9b6d63585779",
   "metadata": {
    "scrolled": true
   },
   "outputs": [],
   "source": [
    "%matplotlib inline\n",
    "\n",
    "\n",
    "\n",
    "# 1) Load data\n",
    "subpop_data = load_csv_data(DISTANCES_SUBPOP_DIR)\n",
    "\n",
    "# 2) By subpopulation\n",
    "generate_boxplots_nested(\n",
    "    nested_data=subpop_data,\n",
    "    positive_col=\"distance_ck_positive\",\n",
    "    negative_col=\"distance_ck_negative\",\n",
    "    label=\"CK\",\n",
    "    output_dir=BOXPLOTS_DISTANCES_DIR,\n",
    "    prefix=\"mask2subpop\"\n",
    ")\n",
    "\n",
    "# 3) Inverted (by ROI)\n",
    "roi_data = invert_dict(subpop_data)\n",
    "generate_boxplots_nested(\n",
    "    nested_data=roi_data,\n",
    "    positive_col=\"distance_ck_positive\",\n",
    "    negative_col=\"distance_ck_negative\",\n",
    "    label=\"CK\",\n",
    "    output_dir=BOXPLOTS_DISTANCES_DIR,\n",
    "    prefix=\"mask2subpop_byROI\"\n",
    ")\n",
    "\n"
   ]
  },
  {
   "cell_type": "markdown",
   "id": "61802e67-9419-45bd-82a3-edc0579448a0",
   "metadata": {},
   "source": [
    "### 15. Visualize with Boxplots and Heatmaps\n",
    "\n",
    "In this final section, we visualize the computed distances between subpopulations and masks using boxplots and heatmaps. These visualizations help summarize the distance data and facilitate the identification of significant spatial patterns across different conditions and ROIs.\n"
   ]
  },
  {
   "cell_type": "code",
   "execution_count": null,
   "id": "b3500d02-f875-4a5d-b3fa-524767d346c9",
   "metadata": {
    "scrolled": true
   },
   "outputs": [],
   "source": [
    "\n",
    "# Build a shading dictionary with (mask_dict, color) for each mask\n",
    "mask_dicts = {\n",
    "    \"CK_mask\":   ck_masks_dict,\n",
    "    \"NGFR_mask\": ngfr_masks_dict\n",
    "}\n",
    "shading_dict  = {\n",
    "    mask_name: (mask_dicts[mask_name], color)\n",
    "    for mask_name, color in SHADING_COLORS.items()\n",
    "}\n",
    "masks_to_shade = list(shading_dict.keys())\n",
    "\n",
    "# A = CK+ & NGFR+\n",
    "subpopA = SUBPOPULATION_A_POSITIVE\n",
    "for subpopB_label, subpopB_conditions in SUBPOPULATIONS.items():\n",
    "    for roi in ROIS_TO_ANALYZE:\n",
    "        # Create a simplified name for the save path\n",
    "        subpopA_name = \"_\".join(subpopA)  # Name of subpopulation A without additional conditions\n",
    "        subpopB_name = subpopB_label  # Name of subpopulation B\n",
    "\n",
    "        # Create the save path using only the name of the subpopulation (e.g., \"Tregs\")\n",
    "        path_save = os.path.join(DISTANCES_POPULATIONS_DIR, f\"{subpopB_name}\")  # Use only subpopB_name\n",
    "\n",
    "        # Ensure the folder exists before saving\n",
    "        os.makedirs(path_save, exist_ok=True)  # Create the directory if it does not exist\n",
    "\n",
    "        # Call the function to calculate and save the distances\n",
    "        compute_and_plot_subpop_distances_for_all_rois(\n",
    "            rois=[roi],  # Analyze one ROI at a time\n",
    "            subpop_conditions_A=subpopA,\n",
    "            subpop_conditions_B=subpopB_conditions,\n",
    "            df_binary=df_binary,\n",
    "            dapi_masks_dict=dapi_masks_dict,\n",
    "            condition_column_map=CONDITION_COLUMN_MAP,\n",
    "            pixel_size=PIXEL_SIZE,\n",
    "            max_pairs=None,\n",
    "            masks_to_shade=masks_to_shade,\n",
    "            shading_dict=shading_dict,\n",
    "            save_matrix_as_csv=True,\n",
    "            path_save=path_save,  # Save in the simplified path without additional subdirectories\n",
    "            print_pivot_head=False,\n",
    "            plot_type=\"voronoi\"\n",
    "        )\n",
    "\n",
    "# A = CK+ & NGFR-\n",
    "subpopA = SUBPOPULATION_A_NEGATIVE\n",
    "for subpopB_label, subpopB_conditions in SUBPOPULATIONS.items():\n",
    "    for roi in ROIS_TO_ANALYZE:\n",
    "        # Create a simplified name for the save path\n",
    "        subpopA_name = \"_\".join(subpopA)  # Name of subpopulation A without additional conditions\n",
    "        subpopB_name = subpopB_label  # Name of subpopulation B\n",
    "\n",
    "        # Create the save path using only the name of the subpopulation (e.g., \"Tregs\")\n",
    "        path_save = os.path.join(DISTANCES_POPULATIONS_DIR, f\"{subpopB_name}\")  # Use only subpopB_name\n",
    "\n",
    "        # Ensure the folder exists before saving\n",
    "        os.makedirs(path_save, exist_ok=True)  # Create the directory if it does not exist\n",
    "\n",
    "        # Call the function to calculate and save the distances\n",
    "        compute_and_plot_subpop_distances_for_all_rois(\n",
    "            rois=[roi],  # Analyze one ROI at a time\n",
    "            subpop_conditions_A=subpopA,\n",
    "            subpop_conditions_B=subpopB_conditions,\n",
    "            df_binary=df_binary,\n",
    "            dapi_masks_dict=dapi_masks_dict,\n",
    "            condition_column_map=CONDITION_COLUMN_MAP,\n",
    "            pixel_size=PIXEL_SIZE,\n",
    "            max_pairs=None,\n",
    "            masks_to_shade=masks_to_shade,\n",
    "            shading_dict=shading_dict,\n",
    "            save_matrix_as_csv=True,\n",
    "            path_save=path_save,  # Save in the simplified path without additional subdirectories\n",
    "            print_pivot_head=False,\n",
    "            plot_type=\"voronoi\"\n",
    "        )\n"
   ]
  },
  {
   "cell_type": "code",
   "execution_count": null,
   "id": "12aa6310-9542-4b7c-9f13-d746cf5c464a",
   "metadata": {},
   "outputs": [],
   "source": [
    "\n",
    "\n",
    "# 1) Load the data from the population distance directory\n",
    "subpop_data = load_csv_data(DISTANCES_POPULATIONS_DIR)\n",
    "\n",
    "# 2) Generate the boxplots/violin plots for both subpopulation and ROI\n",
    "generate_combined_boxplots(\n",
    "    dic_distances=subpop_data,\n",
    "    save_path=BOXPLOTS_DISTANCES_HEATMAPS_DIR\n",
    ")\n"
   ]
  },
  {
   "cell_type": "code",
   "execution_count": null,
   "id": "a908fd3c-fda8-42b7-a69a-95f68585cbc2",
   "metadata": {},
   "outputs": [],
   "source": []
  },
  {
   "cell_type": "code",
   "execution_count": null,
   "id": "62d18d55-8152-4ba8-96be-606150abf04d",
   "metadata": {},
   "outputs": [],
   "source": []
  }
 ],
 "metadata": {
  "kernelspec": {
   "display_name": "Python 3 (ipykernel)",
   "language": "python",
   "name": "python3"
  },
  "language_info": {
   "codemirror_mode": {
    "name": "ipython",
    "version": 3
   },
   "file_extension": ".py",
   "mimetype": "text/x-python",
   "name": "python",
   "nbconvert_exporter": "python",
   "pygments_lexer": "ipython3",
   "version": "3.12.3"
  }
 },
 "nbformat": 4,
 "nbformat_minor": 5
}
